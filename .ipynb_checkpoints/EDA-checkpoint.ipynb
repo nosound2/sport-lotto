{
 "cells": [
  {
   "cell_type": "code",
   "execution_count": 2,
   "metadata": {},
   "outputs": [],
   "source": [
    "import pandas as pd\n",
    "import re\n",
    "import codecs\n",
    "import numpy as np\n",
    "import matplotlib.pyplot as plt\n",
    "from scipy.stats import chisquare"
   ]
  },
  {
   "cell_type": "code",
   "execution_count": null,
   "metadata": {},
   "outputs": [],
   "source": []
  },
  {
   "cell_type": "code",
   "execution_count": 165,
   "metadata": {},
   "outputs": [],
   "source": [
    "# помимо общей статистики по числам, нужна еще вероятность по выпадению чисел в суперпризе.\n",
    "# также нужна статистика по выйгрышам с наиболее вероятными числами."
   ]
  },
  {
   "cell_type": "code",
   "execution_count": 166,
   "metadata": {},
   "outputs": [],
   "source": [
    "# 14.02.2021 08:20\n",
    "# 285\n",
    "# 20  32  21  25  34  31 \n",
    "# ⚲\n",
    "# Суперприз\n",
    "# разыгран\t4 491 826"
   ]
  },
  {
   "cell_type": "code",
   "execution_count": 164,
   "metadata": {},
   "outputs": [],
   "source": [
    "# 26.09.2021 08:20\n",
    "# 317\n",
    "# 34  23  32  14  17  21 \n",
    "# ⚲\n",
    "# 4 165 325"
   ]
  },
  {
   "cell_type": "raw",
   "metadata": {},
   "source": [
    "296 — номер тиража (номер игры)\n",
    "25  28  26  16  34  17 — выйгрышные числа\n",
    "7 928 050 — сумма выйгрыша.(не интересно- можно не учитывать)\n",
    "⚲ — черт знает, какой-то разделитель строк\n",
    "всего 36 чисел. Надо выбрать 6 чисел. Числа в розыгрыше не повторяются.\n",
    "все тиражи с супер призом(максимальная выигрышная сумма) интересует отдельно статистика по таким тиражам.\n",
    " \n",
    "02.05.2021 08:20\n",
    "296\n",
    "25  28  26  16  34  17 \n",
    "⚲\n",
    "7 928 050"
   ]
  },
  {
   "cell_type": "code",
   "execution_count": null,
   "metadata": {},
   "outputs": [],
   "source": []
  },
  {
   "cell_type": "code",
   "execution_count": 20,
   "metadata": {},
   "outputs": [],
   "source": [
    "entries = None\n",
    "res = []\n",
    "with codecs.open('input.txt', encoding='utf-8') as f:\n",
    "    for line in f:\n",
    "        line = line.replace('\\r\\n','')\n",
    "        match = re.search(\"^([0-9]{2}.[0-9]{2}.[0-9]{4})\",line)\n",
    "        if match is not None:\n",
    "            if entries is not None:\n",
    "                res.append(entries)\n",
    "            entries = {'date': line}\n",
    "        match = re.search(\"^[\\d]{1,3}$\",line)\n",
    "        if match is not None:\n",
    "            entries['episode'] = line\n",
    "        match = re.search(\"^([0-9]{1,2}(?:\\s+)){6}\",line)\n",
    "        if match is not None:\n",
    "            entries['result'] = line\n",
    "        if 'Суперприз' in line:\n",
    "            entries['super'] = True\n",
    "    \n",
    "    res.append(entries)"
   ]
  },
  {
   "cell_type": "code",
   "execution_count": null,
   "metadata": {},
   "outputs": [],
   "source": []
  },
  {
   "cell_type": "code",
   "execution_count": 21,
   "metadata": {},
   "outputs": [],
   "source": [
    "data = pd.DataFrame(res).fillna(False)"
   ]
  },
  {
   "cell_type": "code",
   "execution_count": 22,
   "metadata": {},
   "outputs": [],
   "source": [
    "data = data[data.result != False]"
   ]
  },
  {
   "cell_type": "code",
   "execution_count": 9,
   "metadata": {
    "scrolled": true
   },
   "outputs": [
    {
     "data": {
      "text/html": [
       "<div>\n",
       "<style scoped>\n",
       "    .dataframe tbody tr th:only-of-type {\n",
       "        vertical-align: middle;\n",
       "    }\n",
       "\n",
       "    .dataframe tbody tr th {\n",
       "        vertical-align: top;\n",
       "    }\n",
       "\n",
       "    .dataframe thead th {\n",
       "        text-align: right;\n",
       "    }\n",
       "</style>\n",
       "<table border=\"1\" class=\"dataframe\">\n",
       "  <thead>\n",
       "    <tr style=\"text-align: right;\">\n",
       "      <th></th>\n",
       "      <th>date</th>\n",
       "      <th>episode</th>\n",
       "      <th>result</th>\n",
       "    </tr>\n",
       "  </thead>\n",
       "  <tbody>\n",
       "    <tr>\n",
       "      <th>count</th>\n",
       "      <td>5</td>\n",
       "      <td>5</td>\n",
       "      <td>5</td>\n",
       "    </tr>\n",
       "    <tr>\n",
       "      <th>unique</th>\n",
       "      <td>5</td>\n",
       "      <td>5</td>\n",
       "      <td>5</td>\n",
       "    </tr>\n",
       "    <tr>\n",
       "      <th>top</th>\n",
       "      <td>21.11.2015 08:15</td>\n",
       "      <td>10</td>\n",
       "      <td>08  11  31  30  27  33</td>\n",
       "    </tr>\n",
       "    <tr>\n",
       "      <th>freq</th>\n",
       "      <td>1</td>\n",
       "      <td>1</td>\n",
       "      <td>1</td>\n",
       "    </tr>\n",
       "  </tbody>\n",
       "</table>\n",
       "</div>"
      ],
      "text/plain": [
       "                    date episode                   result\n",
       "count                  5       5                        5\n",
       "unique                 5       5                        5\n",
       "top     21.11.2015 08:15      10  08  11  31  30  27  33 \n",
       "freq                   1       1                        1"
      ]
     },
     "execution_count": 9,
     "metadata": {},
     "output_type": "execute_result"
    }
   ],
   "source": [
    "data.describe()"
   ]
  },
  {
   "cell_type": "code",
   "execution_count": 11,
   "metadata": {},
   "outputs": [
    {
     "data": {
      "text/html": [
       "<div>\n",
       "<style scoped>\n",
       "    .dataframe tbody tr th:only-of-type {\n",
       "        vertical-align: middle;\n",
       "    }\n",
       "\n",
       "    .dataframe tbody tr th {\n",
       "        vertical-align: top;\n",
       "    }\n",
       "\n",
       "    .dataframe thead th {\n",
       "        text-align: right;\n",
       "    }\n",
       "</style>\n",
       "<table border=\"1\" class=\"dataframe\">\n",
       "  <thead>\n",
       "    <tr style=\"text-align: right;\">\n",
       "      <th></th>\n",
       "      <th>date</th>\n",
       "      <th>episode</th>\n",
       "      <th>result</th>\n",
       "    </tr>\n",
       "  </thead>\n",
       "  <tbody>\n",
       "    <tr>\n",
       "      <th>0</th>\n",
       "      <td>05.12.2015 08:15</td>\n",
       "      <td>14</td>\n",
       "      <td>01  20  33  04  06  21</td>\n",
       "    </tr>\n",
       "    <tr>\n",
       "      <th>1</th>\n",
       "      <td>28.11.2015 08:15</td>\n",
       "      <td>13</td>\n",
       "      <td>11  06  34  01  15  25</td>\n",
       "    </tr>\n",
       "    <tr>\n",
       "      <th>2</th>\n",
       "      <td>21.11.2015 08:15</td>\n",
       "      <td>12</td>\n",
       "      <td>12  22  05  07  16  33</td>\n",
       "    </tr>\n",
       "    <tr>\n",
       "      <th>3</th>\n",
       "      <td>14.11.2015 08:15</td>\n",
       "      <td>11</td>\n",
       "      <td>08  11  31  30  27  33</td>\n",
       "    </tr>\n",
       "    <tr>\n",
       "      <th>4</th>\n",
       "      <td>07.11.2015 08:15</td>\n",
       "      <td>10</td>\n",
       "      <td>15  30  09  06  21  08</td>\n",
       "    </tr>\n",
       "  </tbody>\n",
       "</table>\n",
       "</div>"
      ],
      "text/plain": [
       "               date episode                   result\n",
       "0  05.12.2015 08:15      14  01  20  33  04  06  21 \n",
       "1  28.11.2015 08:15      13  11  06  34  01  15  25 \n",
       "2  21.11.2015 08:15      12  12  22  05  07  16  33 \n",
       "3  14.11.2015 08:15      11  08  11  31  30  27  33 \n",
       "4  07.11.2015 08:15      10  15  30  09  06  21  08 "
      ]
     },
     "execution_count": 11,
     "metadata": {},
     "output_type": "execute_result"
    }
   ],
   "source": [
    "data"
   ]
  },
  {
   "cell_type": "code",
   "execution_count": null,
   "metadata": {},
   "outputs": [],
   "source": []
  },
  {
   "cell_type": "code",
   "execution_count": 51,
   "metadata": {},
   "outputs": [],
   "source": [
    "cols=range(6)"
   ]
  },
  {
   "cell_type": "code",
   "execution_count": 52,
   "metadata": {},
   "outputs": [
    {
     "name": "stdout",
     "output_type": "stream",
     "text": [
      "episodes 354\n"
     ]
    }
   ],
   "source": [
    "mat = np.stack(data.result.apply(lambda x: np.array([int(s) for s in x.split()])).values)\n",
    "\n",
    "N = len(mat)\n",
    "print('episodes', N)\n",
    "mat = mat[:,cols]\n",
    "mat = mat.flatten()\n"
   ]
  },
  {
   "cell_type": "code",
   "execution_count": 55,
   "metadata": {},
   "outputs": [
    {
     "data": {
      "text/plain": [
       "36"
      ]
     },
     "execution_count": 55,
     "metadata": {},
     "output_type": "execute_result"
    }
   ],
   "source": [
    "len(np.unique(mat))"
   ]
  },
  {
   "cell_type": "code",
   "execution_count": 86,
   "metadata": {},
   "outputs": [],
   "source": [
    "def stats(data, cols=range(6)):\n",
    "    mat = np.stack(data.result.apply(lambda x: np.array([int(s) for s in x.split()])).values)\n",
    "\n",
    "    N = len(mat)\n",
    "    print('episodes', N)\n",
    "    mat = mat[:,cols]\n",
    "    mat = mat.flatten()\n",
    "\n",
    "    _ = plt.figure(figsize = (15,6))\n",
    "    _ = plt.hist(mat, rwidth=0.9, bins=np.arange(1,38))\n",
    "    plt.xticks(np.arange(1,38))\n",
    "    average = len(cols) * N / 36\n",
    "    plt.hlines(average,1,36,color='r')\n",
    "    var = len(cols) * N * 35 / 36 / 36\n",
    "    plt.hlines(average + np.sqrt(var),1,36,color='r',linestyles='dashed')\n",
    "    plt.hlines(average - np.sqrt(var),1,36,color='r',linestyles='dashed')\n",
    "\n",
    "    print('p-value:', chisquare(pd.value_counts(mat).values).pvalue)"
   ]
  },
  {
   "cell_type": "code",
   "execution_count": 87,
   "metadata": {},
   "outputs": [
    {
     "name": "stdout",
     "output_type": "stream",
     "text": [
      "episodes 354\n",
      "p-value: 0.9731849455367193\n"
     ]
    },
    {
     "data": {
      "image/png": "[encoded data removed]",
      "text/plain": [
       "<Figure size 1080x432 with 1 Axes>"
      ]
     },
     "metadata": {
      "needs_background": "light"
     },
     "output_type": "display_data"
    }
   ],
   "source": [
    "stats(data)"
   ]
  },
  {
   "cell_type": "code",
   "execution_count": 88,
   "metadata": {},
   "outputs": [
    {
     "name": "stdout",
     "output_type": "stream",
     "text": [
      "episodes 39\n",
      "p-value: 0.3217833655143426\n"
     ]
    },
    {
     "data": {
      "image/png": "[encoded data removed]",
      "text/plain": [
       "<Figure size 1080x432 with 1 Axes>"
      ]
     },
     "metadata": {
      "needs_background": "light"
     },
     "output_type": "display_data"
    }
   ],
   "source": [
    "stats(data.loc[data.super])"
   ]
  },
  {
   "cell_type": "code",
   "execution_count": 91,
   "metadata": {
    "scrolled": false
   },
   "outputs": [
    {
     "name": "stdout",
     "output_type": "stream",
     "text": [
      "episodes 354\n",
      "p-value: 0.3627997425083708\n",
      "episodes 354\n",
      "p-value: 0.7701848405717725\n",
      "episodes 354\n",
      "p-value: 0.7785603631369425\n",
      "episodes 354\n",
      "p-value: 0.6021810296031929\n",
      "episodes 354\n",
      "p-value: 0.8106394926073451\n",
      "episodes 354\n",
      "p-value: 0.4641859399844157\n"
     ]
    },
    {
     "data": {
      "image/png": "[encoded data removed]",
      "text/plain": [
       "<Figure size 1080x432 with 1 Axes>"
      ]
     },
     "metadata": {
      "needs_background": "light"
     },
     "output_type": "display_data"
    },
    {
     "data": {
      "image/png": "[encoded data removed]",
      "text/plain": [
       "<Figure size 1080x432 with 1 Axes>"
      ]
     },
     "metadata": {
      "needs_background": "light"
     },
     "output_type": "display_data"
    },
    {
     "data": {
      "image/png": "[encoded data removed]",
      "text/plain": [
       "<Figure size 1080x432 with 1 Axes>"
      ]
     },
     "metadata": {
      "needs_background": "light"
     },
     "output_type": "display_data"
    },
    {
     "data": {
      "image/png": "[encoded data removed]",
      "text/plain": [
       "<Figure size 1080x432 with 1 Axes>"
      ]
     },
     "metadata": {
      "needs_background": "light"
     },
     "output_type": "display_data"
    },
    {
     "data": {
      "image/png": "[encoded data removed]",
      "text/plain": [
       "<Figure size 1080x432 with 1 Axes>"
      ]
     },
     "metadata": {
      "needs_background": "light"
     },
     "output_type": "display_data"
    },
    {
     "data": {
      "image/png": "[encoded data removed]",
      "text/plain": [
       "<Figure size 1080x432 with 1 Axes>"
      ]
     },
     "metadata": {
      "needs_background": "light"
     },
     "output_type": "display_data"
    }
   ],
   "source": [
    "for i in range(6):\n",
    "    stats(data, cols=[i])\n",
    "    plt.title(i)    "
   ]
  },
  {
   "cell_type": "code",
   "execution_count": null,
   "metadata": {},
   "outputs": [],
   "source": []
  },
  {
   "cell_type": "code",
   "execution_count": null,
   "metadata": {},
   "outputs": [],
   "source": []
  },
  {
   "cell_type": "code",
   "execution_count": null,
   "metadata": {},
   "outputs": [],
   "source": []
  }
 ],
 "metadata": {
  "kernelspec": {
   "display_name": "Python 3 (ipykernel)",
   "language": "python",
   "name": "python3"
  },
  "language_info": {
   "codemirror_mode": {
    "name": "ipython",
    "version": 3
   },
   "file_extension": ".py",
   "mimetype": "text/x-python",
   "name": "python",
   "nbconvert_exporter": "python",
   "pygments_lexer": "ipython3",
   "version": "3.7.0"
  }
 },
 "nbformat": 4,
 "nbformat_minor": 5
}
