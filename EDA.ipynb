{
 "cells": [
  {
   "cell_type": "code",
   "execution_count": 1,
   "metadata": {},
   "outputs": [],
   "source": [
    "import pandas as pd\n",
    "import re\n",
    "import codecs\n",
    "import numpy as np\n",
    "import matplotlib.pyplot as plt\n",
    "from scipy.stats import chisquare"
   ]
  },
  {
   "cell_type": "code",
   "execution_count": null,
   "metadata": {},
   "outputs": [],
   "source": []
  },
  {
   "cell_type": "code",
   "execution_count": 165,
   "metadata": {},
   "outputs": [],
   "source": [
    "# помимо общей статистики по числам, нужна еще вероятность по выпадению чисел в суперпризе.\n",
    "# также нужна статистика по выйгрышам с наиболее вероятными числами."
   ]
  },
  {
   "cell_type": "code",
   "execution_count": 166,
   "metadata": {},
   "outputs": [],
   "source": [
    "# 14.02.2021 08:20\n",
    "# 285\n",
    "# 20  32  21  25  34  31 \n",
    "# ⚲\n",
    "# Суперприз\n",
    "# разыгран\t4 491 826"
   ]
  },
  {
   "cell_type": "code",
   "execution_count": 164,
   "metadata": {},
   "outputs": [],
   "source": [
    "# 26.09.2021 08:20\n",
    "# 317\n",
    "# 34  23  32  14  17  21 \n",
    "# ⚲\n",
    "# 4 165 325"
   ]
  },
  {
   "cell_type": "raw",
   "metadata": {},
   "source": [
    "296 — номер тиража (номер игры)\n",
    "25  28  26  16  34  17 — выйгрышные числа\n",
    "7 928 050 — сумма выйгрыша.(не интересно- можно не учитывать)\n",
    "⚲ — черт знает, какой-то разделитель строк\n",
    "всего 36 чисел. Надо выбрать 6 чисел. Числа в розыгрыше не повторяются.\n",
    "все тиражи с супер призом(максимальная выигрышная сумма) интересует отдельно статистика по таким тиражам.\n",
    " \n",
    "02.05.2021 08:20\n",
    "296\n",
    "25  28  26  16  34  17 \n",
    "⚲\n",
    "7 928 050"
   ]
  },
  {
   "cell_type": "code",
   "execution_count": null,
   "metadata": {},
   "outputs": [],
   "source": []
  },
  {
   "cell_type": "code",
   "execution_count": 2,
   "metadata": {},
   "outputs": [],
   "source": [
    "entries = None\n",
    "res = []\n",
    "with codecs.open('input.txt', encoding='utf-8') as f:\n",
    "    for line in f:\n",
    "        line = line.replace('\\r\\n','')\n",
    "        match = re.search(\"^([0-9]{2}.[0-9]{2}.[0-9]{4})\",line)\n",
    "        if match is not None:\n",
    "            if entries is not None:\n",
    "                res.append(entries)\n",
    "            entries = {'date': line}\n",
    "        match = re.search(\"^[\\d]{1,3}$\",line)\n",
    "        if match is not None:\n",
    "            entries['episode'] = line\n",
    "        match = re.search(\"^\\d{2}(?:\\s+\\d+){5}\\s$\",line)\n",
    "        if match is not None:\n",
    "            entries['result'] = line\n",
    "        if 'Суперприз' in line:\n",
    "            entries['super'] = True"
   ]
  },
  {
   "cell_type": "code",
   "execution_count": 3,
   "metadata": {},
   "outputs": [],
   "source": [
    "data = pd.DataFrame(res).fillna(False)"
   ]
  },
  {
   "cell_type": "code",
   "execution_count": 10,
   "metadata": {},
   "outputs": [],
   "source": [
    "data = data[data.result != False]"
   ]
  },
  {
   "cell_type": "code",
   "execution_count": 12,
   "metadata": {},
   "outputs": [
    {
     "data": {
      "text/html": [
       "<div>\n",
       "<style scoped>\n",
       "    .dataframe tbody tr th:only-of-type {\n",
       "        vertical-align: middle;\n",
       "    }\n",
       "\n",
       "    .dataframe tbody tr th {\n",
       "        vertical-align: top;\n",
       "    }\n",
       "\n",
       "    .dataframe thead th {\n",
       "        text-align: right;\n",
       "    }\n",
       "</style>\n",
       "<table border=\"1\" class=\"dataframe\">\n",
       "  <thead>\n",
       "    <tr style=\"text-align: right;\">\n",
       "      <th></th>\n",
       "      <th>date</th>\n",
       "      <th>episode</th>\n",
       "      <th>result</th>\n",
       "      <th>super</th>\n",
       "    </tr>\n",
       "  </thead>\n",
       "  <tbody>\n",
       "    <tr>\n",
       "      <th>count</th>\n",
       "      <td>347</td>\n",
       "      <td>347</td>\n",
       "      <td>347</td>\n",
       "      <td>347</td>\n",
       "    </tr>\n",
       "    <tr>\n",
       "      <th>unique</th>\n",
       "      <td>347</td>\n",
       "      <td>347</td>\n",
       "      <td>347</td>\n",
       "      <td>2</td>\n",
       "    </tr>\n",
       "    <tr>\n",
       "      <th>top</th>\n",
       "      <td>29.01.2017 08:20</td>\n",
       "      <td>187</td>\n",
       "      <td>02  01  30  20  04  09</td>\n",
       "      <td>False</td>\n",
       "    </tr>\n",
       "    <tr>\n",
       "      <th>freq</th>\n",
       "      <td>1</td>\n",
       "      <td>1</td>\n",
       "      <td>1</td>\n",
       "      <td>310</td>\n",
       "    </tr>\n",
       "  </tbody>\n",
       "</table>\n",
       "</div>"
      ],
      "text/plain": [
       "                    date episode                   result  super\n",
       "count                347     347                      347    347\n",
       "unique               347     347                      347      2\n",
       "top     29.01.2017 08:20     187  02  01  30  20  04  09   False\n",
       "freq                   1       1                        1    310"
      ]
     },
     "execution_count": 12,
     "metadata": {},
     "output_type": "execute_result"
    }
   ],
   "source": [
    "data.describe()"
   ]
  },
  {
   "cell_type": "code",
   "execution_count": null,
   "metadata": {},
   "outputs": [],
   "source": []
  },
  {
   "cell_type": "code",
   "execution_count": 13,
   "metadata": {},
   "outputs": [],
   "source": [
    "def stats(data, cols=range(6)):\n",
    "    mat = np.stack(data.result.apply(lambda x: np.array([int(s) for s in x.split()])).values)\n",
    "\n",
    "    N = len(mat)\n",
    "    print('episodes', N)\n",
    "    mat = mat[:,cols]\n",
    "    mat = mat.flatten()\n",
    "\n",
    "    _ = plt.hist(mat, bins=36)\n",
    "    average = len(cols) * N / 36\n",
    "    plt.hlines(average,1,36,color='r')\n",
    "    var = len(cols) * N * 35 / 36 / 36\n",
    "    plt.hlines(average + np.sqrt(var),1,36,color='r',linestyles='dashed')\n",
    "    plt.hlines(average - np.sqrt(var),1,36,color='r',linestyles='dashed')\n",
    "\n",
    "    print('p-value:', chisquare(pd.value_counts(mat).values).pvalue)"
   ]
  },
  {
   "cell_type": "code",
   "execution_count": 14,
   "metadata": {},
   "outputs": [
    {
     "name": "stdout",
     "output_type": "stream",
     "text": [
      "episodes 347\n",
      "p-value: 0.9747557752272958\n"
     ]
    },
    {
     "data": {
      "image/png": "[encoded data removed]",
      "text/plain": [
       "<Figure size 432x288 with 1 Axes>"
      ]
     },
     "metadata": {
      "needs_background": "light"
     },
     "output_type": "display_data"
    }
   ],
   "source": [
    "stats(data)"
   ]
  },
  {
   "cell_type": "code",
   "execution_count": 15,
   "metadata": {},
   "outputs": [
    {
     "name": "stdout",
     "output_type": "stream",
     "text": [
      "episodes 37\n",
      "p-value: 0.31678012412708406\n"
     ]
    },
    {
     "data": {
      "image/png": "[encoded data removed]",
      "text/plain": [
       "<Figure size 432x288 with 1 Axes>"
      ]
     },
     "metadata": {
      "needs_background": "light"
     },
     "output_type": "display_data"
    }
   ],
   "source": [
    "stats(data.loc[data.super])"
   ]
  },
  {
   "cell_type": "code",
   "execution_count": 16,
   "metadata": {
    "scrolled": false
   },
   "outputs": [
    {
     "name": "stdout",
     "output_type": "stream",
     "text": [
      "episodes 347\n",
      "p-value: 0.3257168896663167\n",
      "episodes 347\n",
      "p-value: 0.7750629236678848\n",
      "episodes 347\n",
      "p-value: 0.8310661041744284\n",
      "episodes 347\n",
      "p-value: 0.5739816581923849\n",
      "episodes 347\n",
      "p-value: 0.7750629236678844\n",
      "episodes 347\n",
      "p-value: 0.5537081419044392\n"
     ]
    },
    {
     "data": {
      "image/png": "[encoded data removed]",
      "text/plain": [
       "<Figure size 432x288 with 1 Axes>"
      ]
     },
     "metadata": {
      "needs_background": "light"
     },
     "output_type": "display_data"
    },
    {
     "data": {
      "image/png": "[encoded data removed]",
      "text/plain": [
       "<Figure size 432x288 with 1 Axes>"
      ]
     },
     "metadata": {
      "needs_background": "light"
     },
     "output_type": "display_data"
    },
    {
     "data": {
      "image/png": "[encoded data removed]",
      "text/plain": [
       "<Figure size 432x288 with 1 Axes>"
      ]
     },
     "metadata": {
      "needs_background": "light"
     },
     "output_type": "display_data"
    },
    {
     "data": {
      "image/png": "[encoded data removed]",
      "text/plain": [
       "<Figure size 432x288 with 1 Axes>"
      ]
     },
     "metadata": {
      "needs_background": "light"
     },
     "output_type": "display_data"
    },
    {
     "data": {
      "image/png": "[encoded data removed]",
      "text/plain": [
       "<Figure size 432x288 with 1 Axes>"
      ]
     },
     "metadata": {
      "needs_background": "light"
     },
     "output_type": "display_data"
    },
    {
     "data": {
      "image/png": "[encoded data removed]",
      "text/plain": [
       "<Figure size 432x288 with 1 Axes>"
      ]
     },
     "metadata": {
      "needs_background": "light"
     },
     "output_type": "display_data"
    }
   ],
   "source": [
    "for i in range(6):\n",
    "    plt.figure(i)\n",
    "    plt.title(i)\n",
    "    stats(data, cols=[i])"
   ]
  },
  {
   "cell_type": "code",
   "execution_count": null,
   "metadata": {},
   "outputs": [],
   "source": []
  },
  {
   "cell_type": "code",
   "execution_count": null,
   "metadata": {},
   "outputs": [],
   "source": []
  },
  {
   "cell_type": "code",
   "execution_count": null,
   "metadata": {},
   "outputs": [],
   "source": []
  }
 ],
 "metadata": {
  "kernelspec": {
   "display_name": "Python 3 (ipykernel)",
   "language": "python",
   "name": "python3"
  },
  "language_info": {
   "codemirror_mode": {
    "name": "ipython",
    "version": 3
   },
   "file_extension": ".py",
   "mimetype": "text/x-python",
   "name": "python",
   "nbconvert_exporter": "python",
   "pygments_lexer": "ipython3",
   "version": "3.7.0"
  }
 },
 "nbformat": 4,
 "nbformat_minor": 5
}
